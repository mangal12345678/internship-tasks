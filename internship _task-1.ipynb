{
 "cells": [
  {
   "cell_type": "code",
   "execution_count": 1,
   "id": "f20a3077-0bbe-49da-8407-c8967a1801a7",
   "metadata": {},
   "outputs": [
    {
     "name": "stdout",
     "output_type": "stream",
     "text": [
      "the updated list is [1, 2, 3, 4, 6, 7]\n",
      "7\n",
      "1\n"
     ]
    }
   ],
   "source": [
    "#LIST\n",
    "my_list=[1,2,3,4,5,6]\n",
    "\n",
    "#Add The Element\n",
    "my_list.append(7)\n",
    "\n",
    "#Remove The Element\n",
    "my_list.remove(5)\n",
    "\n",
    "#sort the list\n",
    "my_list.sort()\n",
    "\n",
    "print(\"the updated list is\",my_list)\n",
    "\n",
    "#finding the maximum number\n",
    "a=max(my_list)\n",
    "print(a)\n",
    "\n",
    "#finding the minimum number\n",
    "b=min(my_list)\n",
    "print(b)"
   ]
  },
  {
   "cell_type": "code",
   "execution_count": 2,
   "id": "dfe3b981-ab62-4d9a-bcb7-e98f3011a2e7",
   "metadata": {},
   "outputs": [
    {
     "name": "stdout",
     "output_type": "stream",
     "text": [
      "{'name': 'mangal', 'age': '20', 'roll_no': '34'}\n",
      "{'name': 'mangal', 'age': '20', 'roll_no': '34'}\n",
      "the updated dictonary is {'name': 'mangal', 'roll_no': '34', 'prn': '2223000654'}\n"
     ]
    }
   ],
   "source": [
    "#DICTONARY\n",
    "my_dict={\n",
    "    \"name\":\"mangal\",\n",
    "    \"age\":\"20\",\n",
    "    \"roll_no\":\"34\"\n",
    "}\n",
    "\n",
    "#Printing the dictonary\n",
    "print(my_dict)\n",
    "\n",
    "#Getting copy of the dictonary\n",
    "a=my_dict.copy()\n",
    "print(a)\n",
    "\n",
    "#Adding the key value pair\n",
    "my_dict.update({\"prn\":\"2223000654\"})\n",
    "\n",
    "#Removing the element with the specific key\n",
    "my_dict.pop(\"age\")\n",
    "\n",
    "print(\"the updated dictonary is\",my_dict)\n",
    "\n"
   ]
  },
  {
   "cell_type": "code",
   "execution_count": 3,
   "id": "0c2aea96-7966-48fb-ad5c-bb0aa12d3816",
   "metadata": {},
   "outputs": [
    {
     "name": "stdout",
     "output_type": "stream",
     "text": [
      "{1, 2, 3, 4, 5, 6}\n",
      "{1, 2, 3, 4, 5, 6}\n",
      "the updated set is {1, 2, 3, 5, 6, 8}\n"
     ]
    }
   ],
   "source": [
    "#SET\n",
    "my_set={1,2,3,4,5,6}\n",
    "print(my_set)\n",
    "\n",
    "#Getting copy of the Set\n",
    "a=my_set.copy()\n",
    "print(a)\n",
    "\n",
    "#Adding the element\n",
    "my_set.update({8})\n",
    "\n",
    "#Removing the specific element\n",
    "my_set.discard(4)\n",
    "\n",
    "print(\"the updated set is\",my_set)"
   ]
  },
  {
   "cell_type": "code",
   "execution_count": null,
   "id": "3db5ff5c-bbf4-4f32-8c75-f28ff60b3a5f",
   "metadata": {},
   "outputs": [],
   "source": []
  }
 ],
 "metadata": {
  "kernelspec": {
   "display_name": "Python 3 (ipykernel)",
   "language": "python",
   "name": "python3"
  },
  "language_info": {
   "codemirror_mode": {
    "name": "ipython",
    "version": 3
   },
   "file_extension": ".py",
   "mimetype": "text/x-python",
   "name": "python",
   "nbconvert_exporter": "python",
   "pygments_lexer": "ipython3",
   "version": "3.11.7"
  }
 },
 "nbformat": 4,
 "nbformat_minor": 5
}
